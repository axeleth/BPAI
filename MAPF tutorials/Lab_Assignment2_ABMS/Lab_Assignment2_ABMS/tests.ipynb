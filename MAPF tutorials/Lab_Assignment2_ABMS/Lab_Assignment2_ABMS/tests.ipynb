{
 "cells": [
  {
   "cell_type": "code",
   "execution_count": 2,
   "metadata": {},
   "outputs": [
    {
     "name": "stdout",
     "output_type": "stream",
     "text": [
      "2 1\n"
     ]
    }
   ],
   "source": [
    "i = 1; j = i; i += 1; \n",
    "print(i, j)"
   ]
  },
  {
   "cell_type": "code",
   "execution_count": 1,
   "metadata": {},
   "outputs": [
    {
     "name": "stdout",
     "output_type": "stream",
     "text": [
      "before 0\n",
      "before 1\n",
      "before 2\n",
      "before 3\n",
      "before 4\n"
     ]
    }
   ],
   "source": [
    "for i in range(5):\n",
    "    balloon = True\n",
    "    print(\"before\", i)\n",
    "    if balloon:\n",
    "        continue\n",
    "    print(\"after\", i)\n"
   ]
  },
  {
   "cell_type": "code",
   "execution_count": 12,
   "metadata": {},
   "outputs": [
    {
     "name": "stdout",
     "output_type": "stream",
     "text": [
      "if worked\n"
     ]
    }
   ],
   "source": [
    "i = (2,3)\n",
    "\n",
    "if i[0] == 2 and i[1] == 3:\n",
    "    print(\"if worked\")\n",
    "elif i[0] == 2:\n",
    "    print(\"elif worked\")"
   ]
  },
  {
   "cell_type": "code",
   "execution_count": 16,
   "metadata": {},
   "outputs": [
    {
     "name": "stdout",
     "output_type": "stream",
     "text": [
      "both ifs worked\n"
     ]
    }
   ],
   "source": [
    "i = (2,3)\n",
    "\n",
    "if i[0] == 2:\n",
    "    if i[1] == 3:\n",
    "        print(\"both ifs worked\")\n",
    "    else:\n",
    "        print(\"if worked\")"
   ]
  },
  {
   "cell_type": "code",
   "execution_count": 6,
   "metadata": {},
   "outputs": [
    {
     "name": "stdout",
     "output_type": "stream",
     "text": [
      "(1, 1)\n"
     ]
    }
   ],
   "source": [
    "coll = {'type': '3.3', 'loc':(1,1)}\n",
    "\n",
    "coll_type = coll.get('type')\n",
    "\n",
    "if coll_type not in ['3.2', '3.1']:\n",
    "    print(coll['loc'])\n",
    "else:\n",
    "    print(\"not in\")"
   ]
  },
  {
   "cell_type": "code",
   "execution_count": null,
   "metadata": {},
   "outputs": [],
   "source": []
  }
 ],
 "metadata": {
  "kernelspec": {
   "display_name": "Python 3",
   "language": "python",
   "name": "python3"
  },
  "language_info": {
   "codemirror_mode": {
    "name": "ipython",
    "version": 3
   },
   "file_extension": ".py",
   "mimetype": "text/x-python",
   "name": "python",
   "nbconvert_exporter": "python",
   "pygments_lexer": "ipython3",
   "version": "3.12.1"
  }
 },
 "nbformat": 4,
 "nbformat_minor": 2
}
